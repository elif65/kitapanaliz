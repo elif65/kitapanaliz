{
 "cells": [
  {
   "cell_type": "code",
   "execution_count": 1,
   "id": "1a9e4b3d",
   "metadata": {
    "_cell_guid": "b1076dfc-b9ad-4769-8c92-a6c4dae69d19",
    "_uuid": "8f2839f25d086af736a60e9eeb907d3b93b6e0e5",
    "execution": {
     "iopub.execute_input": "2024-10-12T18:26:19.796248Z",
     "iopub.status.busy": "2024-10-12T18:26:19.795807Z",
     "iopub.status.idle": "2024-10-12T18:26:20.725757Z",
     "shell.execute_reply": "2024-10-12T18:26:20.724588Z"
    },
    "papermill": {
     "duration": 0.939242,
     "end_time": "2024-10-12T18:26:20.728257",
     "exception": false,
     "start_time": "2024-10-12T18:26:19.789015",
     "status": "completed"
    },
    "tags": []
   },
   "outputs": [
    {
     "name": "stdout",
     "output_type": "stream",
     "text": [
      "/kaggle/input/dilislemeodev/odev.txt\n"
     ]
    }
   ],
   "source": [
    "# This Python 3 environment comes with many helpful analytics libraries installed\n",
    "# It is defined by the kaggle/python Docker image: https://github.com/kaggle/docker-python\n",
    "# For example, here's several helpful packages to load\n",
    "\n",
    "import numpy as np # linear algebra\n",
    "import pandas as pd # data processing, CSV file I/O (e.g. pd.read_csv)\n",
    "\n",
    "# Input data files are available in the read-only \"../input/\" directory\n",
    "# For example, running this (by clicking run or pressing Shift+Enter) will list all files under the input directory\n",
    "\n",
    "import os\n",
    "for dirname, _, filenames in os.walk('/kaggle/input'):\n",
    "    for filename in filenames:\n",
    "        print(os.path.join(dirname, filename))\n",
    "\n",
    "# You can write up to 20GB to the current directory (/kaggle/working/) that gets preserved as output when you create a version using \"Save & Run All\" \n",
    "# You can also write temporary files to /kaggle/temp/, but they won't be saved outside of the current session"
   ]
  },
  {
   "cell_type": "code",
   "execution_count": 2,
   "id": "e10d80b7",
   "metadata": {
    "collapsed": true,
    "execution": {
     "iopub.execute_input": "2024-10-12T18:26:20.738011Z",
     "iopub.status.busy": "2024-10-12T18:26:20.737427Z",
     "iopub.status.idle": "2024-10-12T18:26:20.748348Z",
     "shell.execute_reply": "2024-10-12T18:26:20.746887Z"
    },
    "jupyter": {
     "outputs_hidden": true
    },
    "papermill": {
     "duration": 0.018782,
     "end_time": "2024-10-12T18:26:20.751174",
     "exception": false,
     "start_time": "2024-10-12T18:26:20.732392",
     "status": "completed"
    },
    "tags": []
   },
   "outputs": [
    {
     "name": "stdout",
     "output_type": "stream",
     "text": [
      "Onunla ilk karşılaşmamız bir bahar akşamına rastladı.\n",
      "Alternatif Bahar Şenlikleri adını verdikleri bir eğlencede\n",
      "halay çekiyordu. Herkes Şebnem Ferah konserine gitmişti ve ben başım ağrıdığı için arkadaşlarımdan erkenden\n",
      "ayrılıp yurdun yolunu tutmuş gidiyordum. Edebiyat fakültesinin önünden geçerken sac üzerinde pişen bazlamanın kokusu iştahımı açtı, hiç unutmam, bir patatesli\n",
      "bazlama bir de ufak çay aldım. Elimdekileri dökmeden\n",
      "yiyebilmek için kenara oturdum ve halayı seyretmeye\n",
      "başladım. Kürtçe olduğunu tahmin ettiğim, anlamadıgım bir dilde şarkılar çalıyordu ve onlarca genç eğleniyordu. Etrafta pankartlar vardı. Normalde arkadaşlarımla burada hiç oturmazdık ama o gece oturasım geldi,\n",
      "demek ki kader böyle bir şeydi. Kaçış yoktu, yaşanması\n",
      "gereken neyse o olurdu.\n",
      "Halay bittiğinde adını ilk kez duyduğum bir türkücüyü davet ettiler ve onlarca genç çimenlerin üzerine oturup bağlama çalan adamı dinlemeye, türkülerine eşlik etmeye başladı. Çayım bitmişti ama içimden. orada kalmak\n",
      "ve bizler\n"
     ]
    }
   ],
   "source": [
    "# Gerekli kütüphaneleri içe aktar\n",
    "import pandas as pd\n",
    "\n",
    "# Dosya yolunu belirle\n",
    "file_path = '/kaggle/input/dilislemeodev/odev.txt'\n",
    "\n",
    "# Dosyayı oku\n",
    "with open(file_path, 'r', encoding='utf-8') as file:\n",
    "    data = file.read()\n",
    "\n",
    "# Verileri incele\n",
    "print(data[:1000])  # İlk 1000 karakteri yazdır\n"
   ]
  },
  {
   "cell_type": "code",
   "execution_count": 3,
   "id": "84985586",
   "metadata": {
    "execution": {
     "iopub.execute_input": "2024-10-12T18:26:20.760683Z",
     "iopub.status.busy": "2024-10-12T18:26:20.760269Z",
     "iopub.status.idle": "2024-10-12T18:26:20.775325Z",
     "shell.execute_reply": "2024-10-12T18:26:20.774091Z"
    },
    "papermill": {
     "duration": 0.022679,
     "end_time": "2024-10-12T18:26:20.777880",
     "exception": false,
     "start_time": "2024-10-12T18:26:20.755201",
     "status": "completed"
    },
    "tags": []
   },
   "outputs": [
    {
     "name": "stdout",
     "output_type": "stream",
     "text": [
      "onunla ilk karşlaşmamz bir bahar akşamna rastlad alternatif bahar şenlikleri adn verdikleri bir eğlencede halay çekiyordu herkes şebnem ferah konserine gitmişti ve ben başm ağrdğ için arkadaşlarmdan erkenden ayrlp yurdun yolunu tutmuş gidiyordum edebiyat fakültesinin önünden geçerken sac üzerinde pişen bazlamann kokusu iştahm açt hiç unutmam bir patatesli bazlama bir de ufak çay aldm elimdekileri dökmeden yiyebilmek için kenara oturdum ve halay seyretmeye başladm kürtçe olduğunu tahmin ettiğim anlamadgm bir dilde şarklar çalyordu ve onlarca genç eğleniyordu etrafta pankartlar vard normalde arkadaşlarmla burada hiç oturmazdk ama o gece oturasm geldi demek ki kader böyle bir şeydi kaçş yoktu yaşanmas gereken neyse o olurdu halay bittiğinde adn ilk kez duyduğum bir türkücüyü davet ettiler ve onlarca genç çimenlerin üzerine oturup bağlama çalan adam dinlemeye türkülerine eşlik etmeye başlad çaym bitmişti ama içimden orada kalmak ve bizlerden farkl bir eğlenceyi tercih etmiş bu insanlar dil\n"
     ]
    }
   ],
   "source": [
    "import re\n",
    "\n",
    "# Metni temizleme fonksiyonu\n",
    "def temizle_metni(metin):\n",
    "    # Küçük harfe çevir\n",
    "    metin = metin.lower()\n",
    "    # Özel karakterleri ve sayıları kaldır\n",
    "    metin = re.sub(r'[^a-zçğişğöü\\s]', '', metin)\n",
    "    # Gereksiz boşlukları kaldır\n",
    "    metin = re.sub(r'\\s+', ' ', metin).strip()\n",
    "    return metin\n",
    "\n",
    "# Dosya yolunu belirle\n",
    "file_path = '/kaggle/input/dilislemeodev/odev.txt'\n",
    "\n",
    "# Dosyayı oku\n",
    "with open(file_path, 'r', encoding='utf-8') as file:\n",
    "    data = file.read()\n",
    "\n",
    "# Metni temizle\n",
    "temizlenmis_metin = temizle_metni(data)\n",
    "\n",
    "# Temizlenmiş metni kontrol et\n",
    "print(temizlenmis_metin[:1000])  # İlk 1000 karakteri yazdır\n",
    "\n"
   ]
  },
  {
   "cell_type": "code",
   "execution_count": 4,
   "id": "133aec19",
   "metadata": {
    "execution": {
     "iopub.execute_input": "2024-10-12T18:26:20.787654Z",
     "iopub.status.busy": "2024-10-12T18:26:20.787277Z",
     "iopub.status.idle": "2024-10-12T18:26:20.795778Z",
     "shell.execute_reply": "2024-10-12T18:26:20.794597Z"
    },
    "papermill": {
     "duration": 0.016448,
     "end_time": "2024-10-12T18:26:20.798403",
     "exception": false,
     "start_time": "2024-10-12T18:26:20.781955",
     "status": "completed"
    },
    "tags": []
   },
   "outputs": [
    {
     "name": "stdout",
     "output_type": "stream",
     "text": [
      "En yaygın kelimeler: [('bir', 136), ('ve', 99), ('o', 60), ('ben', 52), ('bu', 37), ('de', 34), ('ama', 28), ('en', 28), ('ki', 27), ('beni', 26)]\n"
     ]
    }
   ],
   "source": [
    "from collections import Counter\n",
    "\n",
    "# Kelimeleri ayır\n",
    "kelimeler = temizlenmis_metin.split()\n",
    "\n",
    "# Kelime sıklığını hesapla\n",
    "kelime_sikligi = Counter(kelimeler)\n",
    "\n",
    "# En yaygın 10 kelimeyi yazdır\n",
    "en_yaygin_kelime = kelime_sikligi.most_common(10)\n",
    "print(\"En yaygın kelimeler:\", en_yaygin_kelime)\n"
   ]
  },
  {
   "cell_type": "code",
   "execution_count": 5,
   "id": "da004094",
   "metadata": {
    "execution": {
     "iopub.execute_input": "2024-10-12T18:26:20.808383Z",
     "iopub.status.busy": "2024-10-12T18:26:20.807600Z",
     "iopub.status.idle": "2024-10-12T18:26:20.814683Z",
     "shell.execute_reply": "2024-10-12T18:26:20.813573Z"
    },
    "papermill": {
     "duration": 0.0151,
     "end_time": "2024-10-12T18:26:20.817668",
     "exception": false,
     "start_time": "2024-10-12T18:26:20.802568",
     "status": "completed"
    },
    "tags": []
   },
   "outputs": [
    {
     "name": "stdout",
     "output_type": "stream",
     "text": [
      "Ortalama kelime uzunluğu: 5.48\n"
     ]
    }
   ],
   "source": [
    "# Kelime uzunluklarını hesapla\n",
    "kelime_uzunluklari = [len(kelime) for kelime in kelimeler]\n",
    "\n",
    "# Ortalama kelime uzunluğunu hesapla\n",
    "ortalama_kelime_uzunlugu = sum(kelime_uzunluklari) / len(kelime_uzunluklari)\n",
    "print(f\"Ortalama kelime uzunluğu: {ortalama_kelime_uzunlugu:.2f}\")\n"
   ]
  },
  {
   "cell_type": "code",
   "execution_count": 6,
   "id": "9ac6e7ea",
   "metadata": {
    "execution": {
     "iopub.execute_input": "2024-10-12T18:26:20.827702Z",
     "iopub.status.busy": "2024-10-12T18:26:20.827306Z",
     "iopub.status.idle": "2024-10-12T18:26:21.148352Z",
     "shell.execute_reply": "2024-10-12T18:26:21.147240Z"
    },
    "papermill": {
     "duration": 0.329186,
     "end_time": "2024-10-12T18:26:21.150987",
     "exception": false,
     "start_time": "2024-10-12T18:26:20.821801",
     "status": "completed"
    },
    "tags": []
   },
   "outputs": [
    {
     "data": {
      "image/png": "[encoded data removed]",
      "text/plain": [
       "<Figure size 1000x500 with 1 Axes>"
      ]
     },
     "metadata": {},
     "output_type": "display_data"
    }
   ],
   "source": [
    "import matplotlib.pyplot as plt\n",
    "\n",
    "# Kelimeleri ve frekanslarını ayır\n",
    "kelimeler, frekanslar = zip(*en_yaygin_kelime)\n",
    "\n",
    "plt.figure(figsize=(10, 5))\n",
    "plt.bar(kelimeler, frekanslar, color='skyblue')\n",
    "plt.xlabel('Kelime')\n",
    "plt.ylabel('Frekans')\n",
    "plt.title('En Yaygın Kelimeler')\n",
    "plt.xticks(rotation=45)\n",
    "plt.show()\n"
   ]
  },
  {
   "cell_type": "code",
   "execution_count": 7,
   "id": "ddaa9cd8",
   "metadata": {
    "execution": {
     "iopub.execute_input": "2024-10-12T18:26:21.161637Z",
     "iopub.status.busy": "2024-10-12T18:26:21.161253Z",
     "iopub.status.idle": "2024-10-12T18:26:21.170598Z",
     "shell.execute_reply": "2024-10-12T18:26:21.169474Z"
    },
    "papermill": {
     "duration": 0.017171,
     "end_time": "2024-10-12T18:26:21.172872",
     "exception": false,
     "start_time": "2024-10-12T18:26:21.155701",
     "status": "completed"
    },
    "tags": []
   },
   "outputs": [
    {
     "name": "stdout",
     "output_type": "stream",
     "text": [
      "Kitabın konusu: Aşkın insan hayatındaki yeri. Savaşın getirdiği zorluklar. Hayallerin peşinden koşma.\n"
     ]
    }
   ],
   "source": [
    "# Anahtar kelimeleri belirle\n",
    "anahtar_kelime_listesi = {\n",
    "    'aşk': 'Aşkın insan hayatındaki yeri.',\n",
    "    'savaş': 'Savaşın getirdiği zorluklar.',\n",
    "    'kimlik': 'Kimlik arayışının önemi.',\n",
    "    'dostluk': 'Dostluğun güçlendirici etkisi.',\n",
    "    'hayal': 'Hayallerin peşinden koşma.',\n",
    "    'özlem': 'Kaybedilenlere duyulan özlem.',\n",
    "    'kayıp': 'Kayıp duygusu ve mücadele.'\n",
    "}\n",
    "\n",
    "# Temayı belirlemek için bir özet oluştur\n",
    "def kitap_konu_ozet(metin, anahtar_kelime_listesi):\n",
    "    ozet = []\n",
    "    \n",
    "    for kelime, anlam in anahtar_kelime_listesi.items():\n",
    "        if kelime in metin:\n",
    "            ozet.append(anlam)\n",
    "    \n",
    "    return ' '.join(ozet)\n",
    "\n",
    "# Kitap konusunu özetle\n",
    "kitap_konusu = kitap_konu_ozet(temizlenmis_metin, anahtar_kelime_listesi)\n",
    "\n",
    "# Sonucu yazdır\n",
    "print(\"Kitabın konusu:\", kitap_konusu)\n",
    "\n"
   ]
  }
 ],
 "metadata": {
  "kaggle": {
   "accelerator": "none",
   "dataSources": [
    {
     "datasetId": 5864143,
     "sourceId": 9610506,
     "sourceType": "datasetVersion"
    }
   ],
   "dockerImageVersionId": 30786,
   "isGpuEnabled": false,
   "isInternetEnabled": false,
   "language": "python",
   "sourceType": "notebook"
  },
  "kernelspec": {
   "display_name": "Python 3",
   "language": "python",
   "name": "python3"
  },
  "language_info": {
   "codemirror_mode": {
    "name": "ipython",
    "version": 3
   },
   "file_extension": ".py",
   "mimetype": "text/x-python",
   "name": "python",
   "nbconvert_exporter": "python",
   "pygments_lexer": "ipython3",
   "version": "3.10.14"
  },
  "papermill": {
   "default_parameters": {},
   "duration": 4.800359,
   "end_time": "2024-10-12T18:26:21.597745",
   "environment_variables": {},
   "exception": null,
   "input_path": "__notebook__.ipynb",
   "output_path": "__notebook__.ipynb",
   "parameters": {},
   "start_time": "2024-10-12T18:26:16.797386",
   "version": "2.6.0"
  }
 },
 "nbformat": 4,
 "nbformat_minor": 5
}
